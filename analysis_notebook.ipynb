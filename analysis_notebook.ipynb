{
 "cells": [
  {
   "cell_type": "code",
   "execution_count": 96,
   "metadata": {
    "collapsed": true
   },
   "outputs": [],
   "source": [
    "%matplotlib inline\n",
    "import matplotlib.pyplot as plt\n",
    "import pandas as pd\n",
    "import glob"
   ]
  },
  {
   "cell_type": "code",
   "execution_count": 2,
   "metadata": {
    "collapsed": false
   },
   "outputs": [
    {
     "data": {
      "text/plain": [
       "['data/01-01-2016/ana.csv',\n",
       " 'data/01-01-2016/ant.csv',\n",
       " 'data/01-01-2016/asabs.csv',\n",
       " 'data/01-01-2016/asi.csv',\n",
       " 'data/01-01-2016/assem.csv',\n",
       " 'data/01-01-2016/ast.csv',\n",
       " 'data/01-01-2016/bch.csv',\n",
       " 'data/01-01-2016/ceres.csv',\n",
       " 'data/01-01-2016/chm.csv',\n",
       " 'data/01-01-2016/cine.csv']"
      ]
     },
     "execution_count": 2,
     "metadata": {},
     "output_type": "execute_result"
    }
   ],
   "source": [
    "# Get path of all files\n",
    "path_list = glob.glob(\"data/*/*.csv\")\n",
    "\n",
    "# Show first 10 items\n",
    "path_list[:10]"
   ]
  },
  {
   "cell_type": "code",
   "execution_count": 3,
   "metadata": {
    "collapsed": false
   },
   "outputs": [
    {
     "data": {
      "text/plain": [
       "17906"
      ]
     },
     "execution_count": 3,
     "metadata": {},
     "output_type": "execute_result"
    }
   ],
   "source": [
    "# How many CSV files are there?\n",
    "len(path_list)"
   ]
  },
  {
   "cell_type": "code",
   "execution_count": 4,
   "metadata": {
    "collapsed": false
   },
   "outputs": [
    {
     "data": {
      "text/plain": [
       "'data/01-01-2016/ana.csv'"
      ]
     },
     "execution_count": 4,
     "metadata": {},
     "output_type": "execute_result"
    }
   ],
   "source": [
    "# What's the first item in the list?\n",
    "path_list[0]"
   ]
  },
  {
   "cell_type": "code",
   "execution_count": 5,
   "metadata": {
    "collapsed": false
   },
   "outputs": [
    {
     "data": {
      "text/html": [
       "<div>\n",
       "<table border=\"1\" class=\"dataframe\">\n",
       "  <thead>\n",
       "    <tr style=\"text-align: right;\">\n",
       "      <th></th>\n",
       "      <th>Course</th>\n",
       "      <th>Section Code</th>\n",
       "      <th>Title(subtitle)</th>\n",
       "      <th>Meeting Section</th>\n",
       "      <th>Wait List</th>\n",
       "      <th>Time</th>\n",
       "      <th>Location</th>\n",
       "      <th>Instructor</th>\n",
       "      <th>Enrolment Indicator</th>\n",
       "      <th>Enrolment Controls</th>\n",
       "      <th>Information Updated</th>\n",
       "      <th>Enrolment Caps</th>\n",
       "      <th>Enrolment #</th>\n",
       "      <th>WaitList #</th>\n",
       "    </tr>\n",
       "  </thead>\n",
       "  <tbody>\n",
       "    <tr>\n",
       "      <th>0</th>\n",
       "      <td>ANA300Y1</td>\n",
       "      <td>Y</td>\n",
       "      <td>Human Anat Histol</td>\n",
       "      <td>L0101</td>\n",
       "      <td>Y</td>\n",
       "      <td>MT9</td>\n",
       "      <td>MS 2158</td>\n",
       "      <td>B. Ballyk</td>\n",
       "      <td>P</td>\n",
       "      <td>See Details</td>\n",
       "      <td>NaN</td>\n",
       "      <td>400.0</td>\n",
       "      <td>315.0</td>\n",
       "      <td>0.0</td>\n",
       "    </tr>\n",
       "    <tr>\n",
       "      <th>1</th>\n",
       "      <td>NaN</td>\n",
       "      <td>NaN</td>\n",
       "      <td>NaN</td>\n",
       "      <td>NaN</td>\n",
       "      <td>NaN</td>\n",
       "      <td>F10-12</td>\n",
       "      <td>MS 2158</td>\n",
       "      <td>B. Ballyk</td>\n",
       "      <td>NaN</td>\n",
       "      <td>NaN</td>\n",
       "      <td>NaN</td>\n",
       "      <td>NaN</td>\n",
       "      <td>NaN</td>\n",
       "      <td>NaN</td>\n",
       "    </tr>\n",
       "    <tr>\n",
       "      <th>2</th>\n",
       "      <td>ANA301H1</td>\n",
       "      <td>S</td>\n",
       "      <td>Human Embryology</td>\n",
       "      <td>L0101</td>\n",
       "      <td>Y</td>\n",
       "      <td>MF1-3</td>\n",
       "      <td>MS 2158</td>\n",
       "      <td>M. Bidmos</td>\n",
       "      <td>NaN</td>\n",
       "      <td>NaN</td>\n",
       "      <td>NaN</td>\n",
       "      <td>500.0</td>\n",
       "      <td>186.0</td>\n",
       "      <td>0.0</td>\n",
       "    </tr>\n",
       "    <tr>\n",
       "      <th>3</th>\n",
       "      <td>ANA400H1</td>\n",
       "      <td>S</td>\n",
       "      <td>Anatomy Dissections</td>\n",
       "      <td>L0101</td>\n",
       "      <td>N</td>\n",
       "      <td>TR1-3</td>\n",
       "      <td>NaN</td>\n",
       "      <td>M. Bidmos</td>\n",
       "      <td>E</td>\n",
       "      <td>NaN</td>\n",
       "      <td>NaN</td>\n",
       "      <td>NaN</td>\n",
       "      <td>20.0</td>\n",
       "      <td>0.0</td>\n",
       "    </tr>\n",
       "    <tr>\n",
       "      <th>4</th>\n",
       "      <td>ANA498Y1</td>\n",
       "      <td>Y</td>\n",
       "      <td>Research Project</td>\n",
       "      <td>L0101</td>\n",
       "      <td>N</td>\n",
       "      <td>TBA</td>\n",
       "      <td>NaN</td>\n",
       "      <td>H. Sun</td>\n",
       "      <td>E</td>\n",
       "      <td>NaN</td>\n",
       "      <td>NaN</td>\n",
       "      <td>NaN</td>\n",
       "      <td>24.0</td>\n",
       "      <td>0.0</td>\n",
       "    </tr>\n",
       "  </tbody>\n",
       "</table>\n",
       "</div>"
      ],
      "text/plain": [
       "     Course Section Code      Title(subtitle) Meeting Section Wait List  \\\n",
       "0  ANA300Y1            Y    Human Anat Histol           L0101         Y   \n",
       "1       NaN          NaN                  NaN             NaN       NaN   \n",
       "2  ANA301H1            S     Human Embryology           L0101         Y   \n",
       "3  ANA400H1            S  Anatomy Dissections           L0101         N   \n",
       "4  ANA498Y1            Y     Research Project           L0101         N   \n",
       "\n",
       "     Time Location Instructor Enrolment Indicator Enrolment Controls  \\\n",
       "0     MT9  MS 2158  B. Ballyk                   P        See Details   \n",
       "1  F10-12  MS 2158  B. Ballyk                 NaN                NaN   \n",
       "2   MF1-3  MS 2158  M. Bidmos                 NaN                NaN   \n",
       "3   TR1-3      NaN  M. Bidmos                   E                NaN   \n",
       "4     TBA      NaN     H. Sun                   E                NaN   \n",
       "\n",
       "   Information Updated  Enrolment Caps  Enrolment #  WaitList #  \n",
       "0                  NaN           400.0        315.0         0.0  \n",
       "1                  NaN             NaN          NaN         NaN  \n",
       "2                  NaN           500.0        186.0         0.0  \n",
       "3                  NaN             NaN         20.0         0.0  \n",
       "4                  NaN             NaN         24.0         0.0  "
      ]
     },
     "execution_count": 5,
     "metadata": {},
     "output_type": "execute_result"
    }
   ],
   "source": [
    "# Read the first item to show output structure\n",
    "temp_df = pd.read_csv(path_list[0])\n",
    "temp_df.head()"
   ]
  },
  {
   "cell_type": "code",
   "execution_count": 6,
   "metadata": {
    "collapsed": true
   },
   "outputs": [],
   "source": [
    "# Lets merge all the CSV files into one.\n",
    "# Since there is no way to distinguish the data of one course for different days, a new column must be added that\n",
    "# displays the date that the data was fetch. This information is available through the path of the file."
   ]
  },
  {
   "cell_type": "code",
   "execution_count": 7,
   "metadata": {
    "collapsed": false
   },
   "outputs": [
    {
     "data": {
      "text/plain": [
       "'data/01-01-2016/ana.csv'"
      ]
     },
     "execution_count": 7,
     "metadata": {},
     "output_type": "execute_result"
    }
   ],
   "source": [
    "# EXAMPLE:\n",
    "\n",
    "# Add a date column to temp_df using the path.\n",
    "\n",
    "# Start by getting the path\n",
    "temp_path = path_list[0]\n",
    "temp_path"
   ]
  },
  {
   "cell_type": "code",
   "execution_count": 8,
   "metadata": {
    "collapsed": false
   },
   "outputs": [
    {
     "data": {
      "text/plain": [
       "'01-01-2016'"
      ]
     },
     "execution_count": 8,
     "metadata": {},
     "output_type": "execute_result"
    }
   ],
   "source": [
    "# Split using slash and get middle item (i.e. the date)\n",
    "temp_date = temp_path.split('/')[1]\n",
    "temp_date"
   ]
  },
  {
   "cell_type": "code",
   "execution_count": 9,
   "metadata": {
    "collapsed": false
   },
   "outputs": [
    {
     "data": {
      "text/html": [
       "<div>\n",
       "<table border=\"1\" class=\"dataframe\">\n",
       "  <thead>\n",
       "    <tr style=\"text-align: right;\">\n",
       "      <th></th>\n",
       "      <th>Course</th>\n",
       "      <th>Section Code</th>\n",
       "      <th>Title(subtitle)</th>\n",
       "      <th>Meeting Section</th>\n",
       "      <th>Wait List</th>\n",
       "      <th>Time</th>\n",
       "      <th>Location</th>\n",
       "      <th>Instructor</th>\n",
       "      <th>Enrolment Indicator</th>\n",
       "      <th>Enrolment Controls</th>\n",
       "      <th>Information Updated</th>\n",
       "      <th>Enrolment Caps</th>\n",
       "      <th>Enrolment #</th>\n",
       "      <th>WaitList #</th>\n",
       "      <th>date</th>\n",
       "    </tr>\n",
       "  </thead>\n",
       "  <tbody>\n",
       "    <tr>\n",
       "      <th>0</th>\n",
       "      <td>ANA300Y1</td>\n",
       "      <td>Y</td>\n",
       "      <td>Human Anat Histol</td>\n",
       "      <td>L0101</td>\n",
       "      <td>Y</td>\n",
       "      <td>MT9</td>\n",
       "      <td>MS 2158</td>\n",
       "      <td>B. Ballyk</td>\n",
       "      <td>P</td>\n",
       "      <td>See Details</td>\n",
       "      <td>NaN</td>\n",
       "      <td>400.0</td>\n",
       "      <td>315.0</td>\n",
       "      <td>0.0</td>\n",
       "      <td>01-01-2016</td>\n",
       "    </tr>\n",
       "    <tr>\n",
       "      <th>1</th>\n",
       "      <td>NaN</td>\n",
       "      <td>NaN</td>\n",
       "      <td>NaN</td>\n",
       "      <td>NaN</td>\n",
       "      <td>NaN</td>\n",
       "      <td>F10-12</td>\n",
       "      <td>MS 2158</td>\n",
       "      <td>B. Ballyk</td>\n",
       "      <td>NaN</td>\n",
       "      <td>NaN</td>\n",
       "      <td>NaN</td>\n",
       "      <td>NaN</td>\n",
       "      <td>NaN</td>\n",
       "      <td>NaN</td>\n",
       "      <td>01-01-2016</td>\n",
       "    </tr>\n",
       "    <tr>\n",
       "      <th>2</th>\n",
       "      <td>ANA301H1</td>\n",
       "      <td>S</td>\n",
       "      <td>Human Embryology</td>\n",
       "      <td>L0101</td>\n",
       "      <td>Y</td>\n",
       "      <td>MF1-3</td>\n",
       "      <td>MS 2158</td>\n",
       "      <td>M. Bidmos</td>\n",
       "      <td>NaN</td>\n",
       "      <td>NaN</td>\n",
       "      <td>NaN</td>\n",
       "      <td>500.0</td>\n",
       "      <td>186.0</td>\n",
       "      <td>0.0</td>\n",
       "      <td>01-01-2016</td>\n",
       "    </tr>\n",
       "    <tr>\n",
       "      <th>3</th>\n",
       "      <td>ANA400H1</td>\n",
       "      <td>S</td>\n",
       "      <td>Anatomy Dissections</td>\n",
       "      <td>L0101</td>\n",
       "      <td>N</td>\n",
       "      <td>TR1-3</td>\n",
       "      <td>NaN</td>\n",
       "      <td>M. Bidmos</td>\n",
       "      <td>E</td>\n",
       "      <td>NaN</td>\n",
       "      <td>NaN</td>\n",
       "      <td>NaN</td>\n",
       "      <td>20.0</td>\n",
       "      <td>0.0</td>\n",
       "      <td>01-01-2016</td>\n",
       "    </tr>\n",
       "    <tr>\n",
       "      <th>4</th>\n",
       "      <td>ANA498Y1</td>\n",
       "      <td>Y</td>\n",
       "      <td>Research Project</td>\n",
       "      <td>L0101</td>\n",
       "      <td>N</td>\n",
       "      <td>TBA</td>\n",
       "      <td>NaN</td>\n",
       "      <td>H. Sun</td>\n",
       "      <td>E</td>\n",
       "      <td>NaN</td>\n",
       "      <td>NaN</td>\n",
       "      <td>NaN</td>\n",
       "      <td>24.0</td>\n",
       "      <td>0.0</td>\n",
       "      <td>01-01-2016</td>\n",
       "    </tr>\n",
       "  </tbody>\n",
       "</table>\n",
       "</div>"
      ],
      "text/plain": [
       "     Course Section Code      Title(subtitle) Meeting Section Wait List  \\\n",
       "0  ANA300Y1            Y    Human Anat Histol           L0101         Y   \n",
       "1       NaN          NaN                  NaN             NaN       NaN   \n",
       "2  ANA301H1            S     Human Embryology           L0101         Y   \n",
       "3  ANA400H1            S  Anatomy Dissections           L0101         N   \n",
       "4  ANA498Y1            Y     Research Project           L0101         N   \n",
       "\n",
       "     Time Location Instructor Enrolment Indicator Enrolment Controls  \\\n",
       "0     MT9  MS 2158  B. Ballyk                   P        See Details   \n",
       "1  F10-12  MS 2158  B. Ballyk                 NaN                NaN   \n",
       "2   MF1-3  MS 2158  M. Bidmos                 NaN                NaN   \n",
       "3   TR1-3      NaN  M. Bidmos                   E                NaN   \n",
       "4     TBA      NaN     H. Sun                   E                NaN   \n",
       "\n",
       "   Information Updated  Enrolment Caps  Enrolment #  WaitList #        date  \n",
       "0                  NaN           400.0        315.0         0.0  01-01-2016  \n",
       "1                  NaN             NaN          NaN         NaN  01-01-2016  \n",
       "2                  NaN           500.0        186.0         0.0  01-01-2016  \n",
       "3                  NaN             NaN         20.0         0.0  01-01-2016  \n",
       "4                  NaN             NaN         24.0         0.0  01-01-2016  "
      ]
     },
     "execution_count": 9,
     "metadata": {},
     "output_type": "execute_result"
    }
   ],
   "source": [
    "# Add the date to the data path\n",
    "temp_df['date'] = temp_date\n",
    "temp_df.head()"
   ]
  },
  {
   "cell_type": "code",
   "execution_count": 10,
   "metadata": {
    "collapsed": false
   },
   "outputs": [
    {
     "data": {
      "text/html": [
       "<div>\n",
       "<table border=\"1\" class=\"dataframe\">\n",
       "  <thead>\n",
       "    <tr style=\"text-align: right;\">\n",
       "      <th></th>\n",
       "      <th>Course</th>\n",
       "      <th>Section Code</th>\n",
       "      <th>Title(subtitle)</th>\n",
       "      <th>Meeting Section</th>\n",
       "      <th>Wait List</th>\n",
       "      <th>Time</th>\n",
       "      <th>Location</th>\n",
       "      <th>Instructor</th>\n",
       "      <th>Enrolment Indicator</th>\n",
       "      <th>Enrolment Controls</th>\n",
       "      <th>Information Updated</th>\n",
       "      <th>Enrolment Caps</th>\n",
       "      <th>Enrolment #</th>\n",
       "      <th>WaitList #</th>\n",
       "      <th>date</th>\n",
       "    </tr>\n",
       "  </thead>\n",
       "  <tbody>\n",
       "  </tbody>\n",
       "</table>\n",
       "</div>"
      ],
      "text/plain": [
       "Empty DataFrame\n",
       "Columns: [Course, Section Code, Title(subtitle), Meeting Section, Wait List, Time, Location, Instructor, Enrolment Indicator, Enrolment Controls, Information Updated, Enrolment Caps, Enrolment #, WaitList #, date]\n",
       "Index: []"
      ]
     },
     "execution_count": 10,
     "metadata": {},
     "output_type": "execute_result"
    }
   ],
   "source": [
    "# Create an empty DataFrame (table) and use the columns from the temp DataFrame as a basis for the DataFrame\n",
    "combined_df = pd.DataFrame(columns=temp_df.columns)\n",
    "\n",
    "# Empty table (only headers)\n",
    "combined_df"
   ]
  },
  {
   "cell_type": "code",
   "execution_count": 12,
   "metadata": {
    "collapsed": false
   },
   "outputs": [],
   "source": [
    "# Go through all the CSV files, add the date column and combine all into one big table.\n",
    "\n",
    "# THIS WILL TAKE A COUPLE MINUTES. IT IS GOING THROUGH OVER 17,000 CSV files.\n",
    "i = 0\n",
    "df_list = []\n",
    "for path in path_list:\n",
    "    # Read the CSV file\n",
    "    temp_df = pd.read_csv(path, header=0, index_col=None)\n",
    "\n",
    "    # Add the date column to the DataFrame\n",
    "    temp_df['date'] = path.split('/')[1]\n",
    "    \n",
    "    df_list.append(temp_df)\n",
    "    \n",
    "\n",
    "combined_df = pd.concat(df_list)\n",
    "combined_df.to_csv(\"combined_data2.csv\", index=False)"
   ]
  },
  {
   "cell_type": "code",
   "execution_count": 14,
   "metadata": {
    "collapsed": false
   },
   "outputs": [
    {
     "data": {
      "text/html": [
       "<div>\n",
       "<table border=\"1\" class=\"dataframe\">\n",
       "  <thead>\n",
       "    <tr style=\"text-align: right;\">\n",
       "      <th></th>\n",
       "      <th>Course</th>\n",
       "      <th>Enrolment        Controls</th>\n",
       "      <th>Enrolment        Indicator</th>\n",
       "      <th>Enrolment          Caps</th>\n",
       "      <th>Enrolment #</th>\n",
       "      <th>Enrolment Caps</th>\n",
       "      <th>Enrolment Controls</th>\n",
       "      <th>Enrolment Indicator</th>\n",
       "      <th>Enrolment  Caps</th>\n",
       "      <th>Information          Updated</th>\n",
       "      <th>...</th>\n",
       "      <th>Section        Code</th>\n",
       "      <th>Section Code</th>\n",
       "      <th>Time</th>\n",
       "      <th>Title(subtitle)</th>\n",
       "      <th>Wait        List</th>\n",
       "      <th>Wait        List #</th>\n",
       "      <th>Wait List</th>\n",
       "      <th>WaitList</th>\n",
       "      <th>WaitList #</th>\n",
       "      <th>date</th>\n",
       "    </tr>\n",
       "  </thead>\n",
       "  <tbody>\n",
       "    <tr>\n",
       "      <th>0</th>\n",
       "      <td>ANA300Y1</td>\n",
       "      <td>NaN</td>\n",
       "      <td>NaN</td>\n",
       "      <td>NaN</td>\n",
       "      <td>315.0</td>\n",
       "      <td>400.0</td>\n",
       "      <td>See Details</td>\n",
       "      <td>P</td>\n",
       "      <td>NaN</td>\n",
       "      <td>NaN</td>\n",
       "      <td>...</td>\n",
       "      <td>NaN</td>\n",
       "      <td>Y</td>\n",
       "      <td>MT9</td>\n",
       "      <td>Human Anat Histol</td>\n",
       "      <td>NaN</td>\n",
       "      <td>NaN</td>\n",
       "      <td>Y</td>\n",
       "      <td>NaN</td>\n",
       "      <td>0.0</td>\n",
       "      <td>01-01-2016</td>\n",
       "    </tr>\n",
       "    <tr>\n",
       "      <th>1</th>\n",
       "      <td>NaN</td>\n",
       "      <td>NaN</td>\n",
       "      <td>NaN</td>\n",
       "      <td>NaN</td>\n",
       "      <td>NaN</td>\n",
       "      <td>NaN</td>\n",
       "      <td>NaN</td>\n",
       "      <td>NaN</td>\n",
       "      <td>NaN</td>\n",
       "      <td>NaN</td>\n",
       "      <td>...</td>\n",
       "      <td>NaN</td>\n",
       "      <td>NaN</td>\n",
       "      <td>F10-12</td>\n",
       "      <td>NaN</td>\n",
       "      <td>NaN</td>\n",
       "      <td>NaN</td>\n",
       "      <td>NaN</td>\n",
       "      <td>NaN</td>\n",
       "      <td>NaN</td>\n",
       "      <td>01-01-2016</td>\n",
       "    </tr>\n",
       "    <tr>\n",
       "      <th>2</th>\n",
       "      <td>ANA301H1</td>\n",
       "      <td>NaN</td>\n",
       "      <td>NaN</td>\n",
       "      <td>NaN</td>\n",
       "      <td>186.0</td>\n",
       "      <td>500.0</td>\n",
       "      <td>NaN</td>\n",
       "      <td>NaN</td>\n",
       "      <td>NaN</td>\n",
       "      <td>NaN</td>\n",
       "      <td>...</td>\n",
       "      <td>NaN</td>\n",
       "      <td>S</td>\n",
       "      <td>MF1-3</td>\n",
       "      <td>Human Embryology</td>\n",
       "      <td>NaN</td>\n",
       "      <td>NaN</td>\n",
       "      <td>Y</td>\n",
       "      <td>NaN</td>\n",
       "      <td>0.0</td>\n",
       "      <td>01-01-2016</td>\n",
       "    </tr>\n",
       "    <tr>\n",
       "      <th>3</th>\n",
       "      <td>ANA400H1</td>\n",
       "      <td>NaN</td>\n",
       "      <td>NaN</td>\n",
       "      <td>NaN</td>\n",
       "      <td>20.0</td>\n",
       "      <td>NaN</td>\n",
       "      <td>NaN</td>\n",
       "      <td>E</td>\n",
       "      <td>NaN</td>\n",
       "      <td>NaN</td>\n",
       "      <td>...</td>\n",
       "      <td>NaN</td>\n",
       "      <td>S</td>\n",
       "      <td>TR1-3</td>\n",
       "      <td>Anatomy Dissections</td>\n",
       "      <td>NaN</td>\n",
       "      <td>NaN</td>\n",
       "      <td>N</td>\n",
       "      <td>NaN</td>\n",
       "      <td>0.0</td>\n",
       "      <td>01-01-2016</td>\n",
       "    </tr>\n",
       "    <tr>\n",
       "      <th>4</th>\n",
       "      <td>ANA498Y1</td>\n",
       "      <td>NaN</td>\n",
       "      <td>NaN</td>\n",
       "      <td>NaN</td>\n",
       "      <td>24.0</td>\n",
       "      <td>NaN</td>\n",
       "      <td>NaN</td>\n",
       "      <td>E</td>\n",
       "      <td>NaN</td>\n",
       "      <td>NaN</td>\n",
       "      <td>...</td>\n",
       "      <td>NaN</td>\n",
       "      <td>Y</td>\n",
       "      <td>TBA</td>\n",
       "      <td>Research Project</td>\n",
       "      <td>NaN</td>\n",
       "      <td>NaN</td>\n",
       "      <td>N</td>\n",
       "      <td>NaN</td>\n",
       "      <td>0.0</td>\n",
       "      <td>01-01-2016</td>\n",
       "    </tr>\n",
       "  </tbody>\n",
       "</table>\n",
       "<p>5 rows × 28 columns</p>\n",
       "</div>"
      ],
      "text/plain": [
       "     Course  Enrolment        Controls  Enrolment        Indicator  \\\n",
       "0  ANA300Y1                        NaN                         NaN   \n",
       "1       NaN                        NaN                         NaN   \n",
       "2  ANA301H1                        NaN                         NaN   \n",
       "3  ANA400H1                        NaN                         NaN   \n",
       "4  ANA498Y1                        NaN                         NaN   \n",
       "\n",
       "   Enrolment          Caps  Enrolment #  Enrolment Caps Enrolment Controls  \\\n",
       "0                      NaN        315.0           400.0        See Details   \n",
       "1                      NaN          NaN             NaN                NaN   \n",
       "2                      NaN        186.0           500.0                NaN   \n",
       "3                      NaN         20.0             NaN                NaN   \n",
       "4                      NaN         24.0             NaN                NaN   \n",
       "\n",
       "  Enrolment Indicator  Enrolment  Caps  Information          Updated  \\\n",
       "0                   P              NaN                           NaN   \n",
       "1                 NaN              NaN                           NaN   \n",
       "2                 NaN              NaN                           NaN   \n",
       "3                   E              NaN                           NaN   \n",
       "4                   E              NaN                           NaN   \n",
       "\n",
       "      ...     Section        Code Section Code    Time      Title(subtitle)  \\\n",
       "0     ...                     NaN            Y     MT9    Human Anat Histol   \n",
       "1     ...                     NaN          NaN  F10-12                  NaN   \n",
       "2     ...                     NaN            S   MF1-3     Human Embryology   \n",
       "3     ...                     NaN            S   TR1-3  Anatomy Dissections   \n",
       "4     ...                     NaN            Y     TBA     Research Project   \n",
       "\n",
       "  Wait        List Wait        List # Wait List WaitList  WaitList #  \\\n",
       "0              NaN                NaN         Y       NaN        0.0   \n",
       "1              NaN                NaN       NaN       NaN        NaN   \n",
       "2              NaN                NaN         Y       NaN        0.0   \n",
       "3              NaN                NaN         N       NaN        0.0   \n",
       "4              NaN                NaN         N       NaN        0.0   \n",
       "\n",
       "         date  \n",
       "0  01-01-2016  \n",
       "1  01-01-2016  \n",
       "2  01-01-2016  \n",
       "3  01-01-2016  \n",
       "4  01-01-2016  \n",
       "\n",
       "[5 rows x 28 columns]"
      ]
     },
     "execution_count": 14,
     "metadata": {},
     "output_type": "execute_result"
    }
   ],
   "source": [
    "# Table might have a couple extra columns due to slight column name differences between tables. We only care about\n",
    "# the enrolment numbers, and the column names were consistent for all tables.\n",
    "combined_df.head()"
   ]
  },
  {
   "cell_type": "code",
   "execution_count": 15,
   "metadata": {
    "collapsed": false
   },
   "outputs": [
    {
     "data": {
      "text/plain": [
       "1543986"
      ]
     },
     "execution_count": 15,
     "metadata": {},
     "output_type": "execute_result"
    }
   ],
   "source": [
    "# Total number of rows\n",
    "len(combined_df)"
   ]
  },
  {
   "cell_type": "code",
   "execution_count": 58,
   "metadata": {
    "collapsed": false,
    "scrolled": true
   },
   "outputs": [
    {
     "data": {
      "text/html": [
       "<div>\n",
       "<table border=\"1\" class=\"dataframe\">\n",
       "  <thead>\n",
       "    <tr style=\"text-align: right;\">\n",
       "      <th></th>\n",
       "      <th>Course</th>\n",
       "      <th>Enrolment #</th>\n",
       "      <th>Enrolment Caps</th>\n",
       "      <th>WaitList #</th>\n",
       "      <th>date</th>\n",
       "    </tr>\n",
       "  </thead>\n",
       "  <tbody>\n",
       "    <tr>\n",
       "      <th>0</th>\n",
       "      <td>ANA300Y1</td>\n",
       "      <td>315.0</td>\n",
       "      <td>400.0</td>\n",
       "      <td>0.0</td>\n",
       "      <td>01-01-2016</td>\n",
       "    </tr>\n",
       "    <tr>\n",
       "      <th>1</th>\n",
       "      <td>NaN</td>\n",
       "      <td>NaN</td>\n",
       "      <td>NaN</td>\n",
       "      <td>NaN</td>\n",
       "      <td>01-01-2016</td>\n",
       "    </tr>\n",
       "    <tr>\n",
       "      <th>2</th>\n",
       "      <td>ANA301H1</td>\n",
       "      <td>186.0</td>\n",
       "      <td>500.0</td>\n",
       "      <td>0.0</td>\n",
       "      <td>01-01-2016</td>\n",
       "    </tr>\n",
       "    <tr>\n",
       "      <th>3</th>\n",
       "      <td>ANA400H1</td>\n",
       "      <td>20.0</td>\n",
       "      <td>NaN</td>\n",
       "      <td>0.0</td>\n",
       "      <td>01-01-2016</td>\n",
       "    </tr>\n",
       "    <tr>\n",
       "      <th>4</th>\n",
       "      <td>ANA498Y1</td>\n",
       "      <td>24.0</td>\n",
       "      <td>NaN</td>\n",
       "      <td>0.0</td>\n",
       "      <td>01-01-2016</td>\n",
       "    </tr>\n",
       "  </tbody>\n",
       "</table>\n",
       "</div>"
      ],
      "text/plain": [
       "     Course  Enrolment #  Enrolment Caps  WaitList #        date\n",
       "0  ANA300Y1        315.0           400.0         0.0  01-01-2016\n",
       "1       NaN          NaN             NaN         NaN  01-01-2016\n",
       "2  ANA301H1        186.0           500.0         0.0  01-01-2016\n",
       "3  ANA400H1         20.0             NaN         0.0  01-01-2016\n",
       "4  ANA498Y1         24.0             NaN         0.0  01-01-2016"
      ]
     },
     "execution_count": 58,
     "metadata": {},
     "output_type": "execute_result"
    }
   ],
   "source": [
    "# Remove unneeded columns. Since there are a lot of columns, it's easier to simply select the columns that we need\n",
    "# Creating a new DataFrame since it took a couple minutes to generate the previous one.\n",
    "\n",
    "needed_cols = ['Course', 'Enrolment #', 'Enrolment Caps', 'WaitList #', 'date']\n",
    "new_df = combined_df[needed_cols]\n",
    "new_df.head()"
   ]
  },
  {
   "cell_type": "code",
   "execution_count": 59,
   "metadata": {
    "collapsed": false
   },
   "outputs": [
    {
     "data": {
      "text/html": [
       "<div>\n",
       "<table border=\"1\" class=\"dataframe\">\n",
       "  <thead>\n",
       "    <tr style=\"text-align: right;\">\n",
       "      <th></th>\n",
       "      <th>Course</th>\n",
       "      <th>Enrolment #</th>\n",
       "      <th>Enrolment Caps</th>\n",
       "      <th>WaitList #</th>\n",
       "      <th>date</th>\n",
       "    </tr>\n",
       "  </thead>\n",
       "  <tbody>\n",
       "    <tr>\n",
       "      <th>0</th>\n",
       "      <td>ANA300Y1</td>\n",
       "      <td>315.0</td>\n",
       "      <td>400.0</td>\n",
       "      <td>0.0</td>\n",
       "      <td>01-01-2016</td>\n",
       "    </tr>\n",
       "    <tr>\n",
       "      <th>2</th>\n",
       "      <td>ANA301H1</td>\n",
       "      <td>186.0</td>\n",
       "      <td>500.0</td>\n",
       "      <td>0.0</td>\n",
       "      <td>01-01-2016</td>\n",
       "    </tr>\n",
       "    <tr>\n",
       "      <th>3</th>\n",
       "      <td>ANA400H1</td>\n",
       "      <td>20.0</td>\n",
       "      <td>NaN</td>\n",
       "      <td>0.0</td>\n",
       "      <td>01-01-2016</td>\n",
       "    </tr>\n",
       "    <tr>\n",
       "      <th>4</th>\n",
       "      <td>ANA498Y1</td>\n",
       "      <td>24.0</td>\n",
       "      <td>NaN</td>\n",
       "      <td>0.0</td>\n",
       "      <td>01-01-2016</td>\n",
       "    </tr>\n",
       "    <tr>\n",
       "      <th>0</th>\n",
       "      <td>ANT100Y1</td>\n",
       "      <td>57.0</td>\n",
       "      <td>70.0</td>\n",
       "      <td>0.0</td>\n",
       "      <td>01-01-2016</td>\n",
       "    </tr>\n",
       "    <tr>\n",
       "      <th>1</th>\n",
       "      <td>NaN</td>\n",
       "      <td>1169.0</td>\n",
       "      <td>1380.0</td>\n",
       "      <td>0.0</td>\n",
       "      <td>01-01-2016</td>\n",
       "    </tr>\n",
       "    <tr>\n",
       "      <th>2</th>\n",
       "      <td>ANT200Y1</td>\n",
       "      <td>190.0</td>\n",
       "      <td>350.0</td>\n",
       "      <td>0.0</td>\n",
       "      <td>01-01-2016</td>\n",
       "    </tr>\n",
       "    <tr>\n",
       "      <th>4</th>\n",
       "      <td>NaN</td>\n",
       "      <td>18.0</td>\n",
       "      <td>30.0</td>\n",
       "      <td>0.0</td>\n",
       "      <td>01-01-2016</td>\n",
       "    </tr>\n",
       "    <tr>\n",
       "      <th>5</th>\n",
       "      <td>NaN</td>\n",
       "      <td>17.0</td>\n",
       "      <td>30.0</td>\n",
       "      <td>0.0</td>\n",
       "      <td>01-01-2016</td>\n",
       "    </tr>\n",
       "    <tr>\n",
       "      <th>6</th>\n",
       "      <td>NaN</td>\n",
       "      <td>20.0</td>\n",
       "      <td>30.0</td>\n",
       "      <td>0.0</td>\n",
       "      <td>01-01-2016</td>\n",
       "    </tr>\n",
       "  </tbody>\n",
       "</table>\n",
       "</div>"
      ],
      "text/plain": [
       "     Course  Enrolment #  Enrolment Caps  WaitList #        date\n",
       "0  ANA300Y1        315.0           400.0         0.0  01-01-2016\n",
       "2  ANA301H1        186.0           500.0         0.0  01-01-2016\n",
       "3  ANA400H1         20.0             NaN         0.0  01-01-2016\n",
       "4  ANA498Y1         24.0             NaN         0.0  01-01-2016\n",
       "0  ANT100Y1         57.0            70.0         0.0  01-01-2016\n",
       "1       NaN       1169.0          1380.0         0.0  01-01-2016\n",
       "2  ANT200Y1        190.0           350.0         0.0  01-01-2016\n",
       "4       NaN         18.0            30.0         0.0  01-01-2016\n",
       "5       NaN         17.0            30.0         0.0  01-01-2016\n",
       "6       NaN         20.0            30.0         0.0  01-01-2016"
      ]
     },
     "execution_count": 59,
     "metadata": {},
     "output_type": "execute_result"
    }
   ],
   "source": [
    "# Some rows will have all NaN values (With exception of date column). This is because the row provided information\n",
    "# about a course that was in a column that was removed. These rows are no longer needed.\n",
    "\n",
    "# Remove all rows that are Nan in every column (with exception of date col)\n",
    "new_df = new_df.dropna(subset=new_df.columns.values[:-1], how='all')\n",
    "\n",
    "# rows that are all Nan (with excption of date) have been removed\n",
    "# Some courses don't have enrolment Caps. So it is fine to have them as Nan.\n",
    "new_df.head(10)"
   ]
  },
  {
   "cell_type": "code",
   "execution_count": 60,
   "metadata": {
    "collapsed": false
   },
   "outputs": [
    {
     "data": {
      "text/plain": [
       "1347163"
      ]
     },
     "execution_count": 60,
     "metadata": {},
     "output_type": "execute_result"
    }
   ],
   "source": [
    "# Total number of rows\n",
    "len(new_df)"
   ]
  },
  {
   "cell_type": "code",
   "execution_count": 61,
   "metadata": {
    "collapsed": false
   },
   "outputs": [
    {
     "data": {
      "text/html": [
       "<div>\n",
       "<table border=\"1\" class=\"dataframe\">\n",
       "  <thead>\n",
       "    <tr style=\"text-align: right;\">\n",
       "      <th></th>\n",
       "      <th>Course</th>\n",
       "      <th>Enrolment #</th>\n",
       "      <th>Enrolment Caps</th>\n",
       "      <th>WaitList #</th>\n",
       "      <th>date</th>\n",
       "    </tr>\n",
       "  </thead>\n",
       "  <tbody>\n",
       "    <tr>\n",
       "      <th>0</th>\n",
       "      <td>ANA300Y1</td>\n",
       "      <td>315.0</td>\n",
       "      <td>400.0</td>\n",
       "      <td>0.0</td>\n",
       "      <td>01-01-2016</td>\n",
       "    </tr>\n",
       "    <tr>\n",
       "      <th>2</th>\n",
       "      <td>ANA301H1</td>\n",
       "      <td>186.0</td>\n",
       "      <td>500.0</td>\n",
       "      <td>0.0</td>\n",
       "      <td>01-01-2016</td>\n",
       "    </tr>\n",
       "    <tr>\n",
       "      <th>3</th>\n",
       "      <td>ANA400H1</td>\n",
       "      <td>20.0</td>\n",
       "      <td>NaN</td>\n",
       "      <td>0.0</td>\n",
       "      <td>01-01-2016</td>\n",
       "    </tr>\n",
       "    <tr>\n",
       "      <th>4</th>\n",
       "      <td>ANA498Y1</td>\n",
       "      <td>24.0</td>\n",
       "      <td>NaN</td>\n",
       "      <td>0.0</td>\n",
       "      <td>01-01-2016</td>\n",
       "    </tr>\n",
       "    <tr>\n",
       "      <th>0</th>\n",
       "      <td>ANT100Y1</td>\n",
       "      <td>57.0</td>\n",
       "      <td>70.0</td>\n",
       "      <td>0.0</td>\n",
       "      <td>01-01-2016</td>\n",
       "    </tr>\n",
       "    <tr>\n",
       "      <th>1</th>\n",
       "      <td>ANT100Y1</td>\n",
       "      <td>1169.0</td>\n",
       "      <td>1380.0</td>\n",
       "      <td>0.0</td>\n",
       "      <td>01-01-2016</td>\n",
       "    </tr>\n",
       "    <tr>\n",
       "      <th>2</th>\n",
       "      <td>ANT200Y1</td>\n",
       "      <td>190.0</td>\n",
       "      <td>350.0</td>\n",
       "      <td>0.0</td>\n",
       "      <td>01-01-2016</td>\n",
       "    </tr>\n",
       "    <tr>\n",
       "      <th>4</th>\n",
       "      <td>ANT200Y1</td>\n",
       "      <td>18.0</td>\n",
       "      <td>30.0</td>\n",
       "      <td>0.0</td>\n",
       "      <td>01-01-2016</td>\n",
       "    </tr>\n",
       "    <tr>\n",
       "      <th>5</th>\n",
       "      <td>ANT200Y1</td>\n",
       "      <td>17.0</td>\n",
       "      <td>30.0</td>\n",
       "      <td>0.0</td>\n",
       "      <td>01-01-2016</td>\n",
       "    </tr>\n",
       "    <tr>\n",
       "      <th>6</th>\n",
       "      <td>ANT200Y1</td>\n",
       "      <td>20.0</td>\n",
       "      <td>30.0</td>\n",
       "      <td>0.0</td>\n",
       "      <td>01-01-2016</td>\n",
       "    </tr>\n",
       "  </tbody>\n",
       "</table>\n",
       "</div>"
      ],
      "text/plain": [
       "     Course  Enrolment #  Enrolment Caps  WaitList #        date\n",
       "0  ANA300Y1        315.0           400.0         0.0  01-01-2016\n",
       "2  ANA301H1        186.0           500.0         0.0  01-01-2016\n",
       "3  ANA400H1         20.0             NaN         0.0  01-01-2016\n",
       "4  ANA498Y1         24.0             NaN         0.0  01-01-2016\n",
       "0  ANT100Y1         57.0            70.0         0.0  01-01-2016\n",
       "1  ANT100Y1       1169.0          1380.0         0.0  01-01-2016\n",
       "2  ANT200Y1        190.0           350.0         0.0  01-01-2016\n",
       "4  ANT200Y1         18.0            30.0         0.0  01-01-2016\n",
       "5  ANT200Y1         17.0            30.0         0.0  01-01-2016\n",
       "6  ANT200Y1         20.0            30.0         0.0  01-01-2016"
      ]
     },
     "execution_count": 61,
     "metadata": {},
     "output_type": "execute_result"
    }
   ],
   "source": [
    "# Some courses have NaN values. This is because that row still corresponds to the first non-NaN value above it.\n",
    "# The row is supposed to represent a different secetion of the same course.\n",
    "\n",
    "# Lets replace all the NaN values in the Course column with the first non-NaN value above it to get a correct\n",
    "# representation of the data.\n",
    "new_df['Course'].fillna(method='ffill', inplace=True)\n",
    "\n",
    "new_df.head(10)"
   ]
  },
  {
   "cell_type": "code",
   "execution_count": 92,
   "metadata": {
    "collapsed": false
   },
   "outputs": [
    {
     "data": {
      "text/html": [
       "<div>\n",
       "<table border=\"1\" class=\"dataframe\">\n",
       "  <thead>\n",
       "    <tr style=\"text-align: right;\">\n",
       "      <th></th>\n",
       "      <th>Course</th>\n",
       "      <th>date</th>\n",
       "      <th>Enrolment #</th>\n",
       "      <th>Enrolment Caps</th>\n",
       "      <th>WaitList #</th>\n",
       "    </tr>\n",
       "  </thead>\n",
       "  <tbody>\n",
       "    <tr>\n",
       "      <th>0</th>\n",
       "      <td>ABP100Y1</td>\n",
       "      <td>01-01-2016</td>\n",
       "      <td>24.0</td>\n",
       "      <td>50.0</td>\n",
       "      <td>0.0</td>\n",
       "    </tr>\n",
       "    <tr>\n",
       "      <th>1</th>\n",
       "      <td>ABP100Y1</td>\n",
       "      <td>01-02-2016</td>\n",
       "      <td>23.0</td>\n",
       "      <td>50.0</td>\n",
       "      <td>NaN</td>\n",
       "    </tr>\n",
       "    <tr>\n",
       "      <th>2</th>\n",
       "      <td>ABP100Y1</td>\n",
       "      <td>01-03-2016</td>\n",
       "      <td>23.0</td>\n",
       "      <td>50.0</td>\n",
       "      <td>NaN</td>\n",
       "    </tr>\n",
       "    <tr>\n",
       "      <th>3</th>\n",
       "      <td>ABP100Y1</td>\n",
       "      <td>01-04-2016</td>\n",
       "      <td>20.0</td>\n",
       "      <td>50.0</td>\n",
       "      <td>NaN</td>\n",
       "    </tr>\n",
       "    <tr>\n",
       "      <th>4</th>\n",
       "      <td>ABP100Y1</td>\n",
       "      <td>01-05-2016</td>\n",
       "      <td>20.0</td>\n",
       "      <td>50.0</td>\n",
       "      <td>NaN</td>\n",
       "    </tr>\n",
       "    <tr>\n",
       "      <th>5</th>\n",
       "      <td>ABP100Y1</td>\n",
       "      <td>01-10-2015</td>\n",
       "      <td>23.0</td>\n",
       "      <td>50.0</td>\n",
       "      <td>0.0</td>\n",
       "    </tr>\n",
       "    <tr>\n",
       "      <th>6</th>\n",
       "      <td>ABP100Y1</td>\n",
       "      <td>01-11-2015</td>\n",
       "      <td>24.0</td>\n",
       "      <td>50.0</td>\n",
       "      <td>0.0</td>\n",
       "    </tr>\n",
       "    <tr>\n",
       "      <th>7</th>\n",
       "      <td>ABP100Y1</td>\n",
       "      <td>01-12-2015</td>\n",
       "      <td>24.0</td>\n",
       "      <td>50.0</td>\n",
       "      <td>0.0</td>\n",
       "    </tr>\n",
       "    <tr>\n",
       "      <th>8</th>\n",
       "      <td>ABP100Y1</td>\n",
       "      <td>02-01-2016</td>\n",
       "      <td>24.0</td>\n",
       "      <td>50.0</td>\n",
       "      <td>0.0</td>\n",
       "    </tr>\n",
       "    <tr>\n",
       "      <th>9</th>\n",
       "      <td>ABP100Y1</td>\n",
       "      <td>02-02-2016</td>\n",
       "      <td>23.0</td>\n",
       "      <td>50.0</td>\n",
       "      <td>NaN</td>\n",
       "    </tr>\n",
       "  </tbody>\n",
       "</table>\n",
       "</div>"
      ],
      "text/plain": [
       "     Course        date  Enrolment #  Enrolment Caps  WaitList #\n",
       "0  ABP100Y1  01-01-2016         24.0            50.0         0.0\n",
       "1  ABP100Y1  01-02-2016         23.0            50.0         NaN\n",
       "2  ABP100Y1  01-03-2016         23.0            50.0         NaN\n",
       "3  ABP100Y1  01-04-2016         20.0            50.0         NaN\n",
       "4  ABP100Y1  01-05-2016         20.0            50.0         NaN\n",
       "5  ABP100Y1  01-10-2015         23.0            50.0         0.0\n",
       "6  ABP100Y1  01-11-2015         24.0            50.0         0.0\n",
       "7  ABP100Y1  01-12-2015         24.0            50.0         0.0\n",
       "8  ABP100Y1  02-01-2016         24.0            50.0         0.0\n",
       "9  ABP100Y1  02-02-2016         23.0            50.0         NaN"
      ]
     },
     "execution_count": 92,
     "metadata": {},
     "output_type": "execute_result"
    }
   ],
   "source": [
    "# Lets now group the rows by course so there is only one row per course. All sections of the courses get grouped\n",
    "# together.\n",
    "\n",
    "grouped_df = new_df.groupby(['Course', 'date']).sum()\n",
    "grouped_df.reset_index(level=[0,1], inplace=True)\n",
    "\n",
    "grouped_df.head(10)"
   ]
  },
  {
   "cell_type": "code",
   "execution_count": 93,
   "metadata": {
    "collapsed": false
   },
   "outputs": [
    {
     "data": {
      "text/plain": [
       "660426"
      ]
     },
     "execution_count": 93,
     "metadata": {},
     "output_type": "execute_result"
    }
   ],
   "source": [
    "# Total number of rows\n",
    "len(grouped_df)"
   ]
  },
  {
   "cell_type": "code",
   "execution_count": 97,
   "metadata": {
    "collapsed": false
   },
   "outputs": [
    {
     "data": {
      "text/html": [
       "<div>\n",
       "<table border=\"1\" class=\"dataframe\">\n",
       "  <thead>\n",
       "    <tr style=\"text-align: right;\">\n",
       "      <th></th>\n",
       "      <th>Course</th>\n",
       "      <th>date</th>\n",
       "      <th>Enrolment #</th>\n",
       "      <th>Enrolment Caps</th>\n",
       "      <th>WaitList #</th>\n",
       "    </tr>\n",
       "  </thead>\n",
       "  <tbody>\n",
       "    <tr>\n",
       "      <th>95982</th>\n",
       "      <td>CSC108H1</td>\n",
       "      <td>01-01-2016</td>\n",
       "      <td>1756.0</td>\n",
       "      <td>1890.0</td>\n",
       "      <td>519.0</td>\n",
       "    </tr>\n",
       "    <tr>\n",
       "      <th>95983</th>\n",
       "      <td>CSC108H1</td>\n",
       "      <td>01-02-2016</td>\n",
       "      <td>1755.0</td>\n",
       "      <td>1890.0</td>\n",
       "      <td>NaN</td>\n",
       "    </tr>\n",
       "    <tr>\n",
       "      <th>95984</th>\n",
       "      <td>CSC108H1</td>\n",
       "      <td>01-03-2016</td>\n",
       "      <td>1755.0</td>\n",
       "      <td>1890.0</td>\n",
       "      <td>NaN</td>\n",
       "    </tr>\n",
       "    <tr>\n",
       "      <th>95985</th>\n",
       "      <td>CSC108H1</td>\n",
       "      <td>01-04-2016</td>\n",
       "      <td>1617.0</td>\n",
       "      <td>1890.0</td>\n",
       "      <td>NaN</td>\n",
       "    </tr>\n",
       "    <tr>\n",
       "      <th>95986</th>\n",
       "      <td>CSC108H1</td>\n",
       "      <td>01-05-2016</td>\n",
       "      <td>1617.0</td>\n",
       "      <td>1890.0</td>\n",
       "      <td>NaN</td>\n",
       "    </tr>\n",
       "    <tr>\n",
       "      <th>95987</th>\n",
       "      <td>CSC108H1</td>\n",
       "      <td>01-10-2015</td>\n",
       "      <td>1879.0</td>\n",
       "      <td>1880.0</td>\n",
       "      <td>203.0</td>\n",
       "    </tr>\n",
       "    <tr>\n",
       "      <th>95988</th>\n",
       "      <td>CSC108H1</td>\n",
       "      <td>01-11-2015</td>\n",
       "      <td>1822.0</td>\n",
       "      <td>1890.0</td>\n",
       "      <td>319.0</td>\n",
       "    </tr>\n",
       "    <tr>\n",
       "      <th>95989</th>\n",
       "      <td>CSC108H1</td>\n",
       "      <td>01-12-2015</td>\n",
       "      <td>1771.0</td>\n",
       "      <td>1890.0</td>\n",
       "      <td>467.0</td>\n",
       "    </tr>\n",
       "    <tr>\n",
       "      <th>95990</th>\n",
       "      <td>CSC108H1</td>\n",
       "      <td>02-01-2016</td>\n",
       "      <td>1756.0</td>\n",
       "      <td>1890.0</td>\n",
       "      <td>519.0</td>\n",
       "    </tr>\n",
       "    <tr>\n",
       "      <th>95991</th>\n",
       "      <td>CSC108H1</td>\n",
       "      <td>02-02-2016</td>\n",
       "      <td>1755.0</td>\n",
       "      <td>1890.0</td>\n",
       "      <td>NaN</td>\n",
       "    </tr>\n",
       "  </tbody>\n",
       "</table>\n",
       "</div>"
      ],
      "text/plain": [
       "         Course        date  Enrolment #  Enrolment Caps  WaitList #\n",
       "95982  CSC108H1  01-01-2016       1756.0          1890.0       519.0\n",
       "95983  CSC108H1  01-02-2016       1755.0          1890.0         NaN\n",
       "95984  CSC108H1  01-03-2016       1755.0          1890.0         NaN\n",
       "95985  CSC108H1  01-04-2016       1617.0          1890.0         NaN\n",
       "95986  CSC108H1  01-05-2016       1617.0          1890.0         NaN\n",
       "95987  CSC108H1  01-10-2015       1879.0          1880.0       203.0\n",
       "95988  CSC108H1  01-11-2015       1822.0          1890.0       319.0\n",
       "95989  CSC108H1  01-12-2015       1771.0          1890.0       467.0\n",
       "95990  CSC108H1  02-01-2016       1756.0          1890.0       519.0\n",
       "95991  CSC108H1  02-02-2016       1755.0          1890.0         NaN"
      ]
     },
     "execution_count": 97,
     "metadata": {},
     "output_type": "execute_result"
    }
   ],
   "source": [
    "abc = grouped_df.loc[grouped_df['Course'] == 'CSC108H1']\n",
    "abc.head(10)"
   ]
  },
  {
   "cell_type": "code",
   "execution_count": 114,
   "metadata": {
    "collapsed": false
   },
   "outputs": [
    {
     "data": {
      "image/png": "[encoded data removed]",
      "text/plain": [
       "<matplotlib.figure.Figure at 0x13d8af090>"
      ]
     },
     "metadata": {},
     "output_type": "display_data"
    }
   ],
   "source": [
    "abc[['Enrolment #', 'date']].plot(x='date', y='Enrolment #', kind='line')\n",
    "# plt.figure()\n",
    "plt.show()"
   ]
  },
  {
   "cell_type": "code",
   "execution_count": 107,
   "metadata": {
    "collapsed": false
   },
   "outputs": [],
   "source": [
    "abc = abc[abc.date != '08-05-2016']\n",
    "\n"
   ]
  },
  {
   "cell_type": "code",
   "execution_count": null,
   "metadata": {
    "collapsed": true
   },
   "outputs": [],
   "source": []
  }
 ],
 "metadata": {
  "kernelspec": {
   "display_name": "Python 2",
   "language": "python",
   "name": "python2"
  },
  "language_info": {
   "codemirror_mode": {
    "name": "ipython",
    "version": 2
   },
   "file_extension": ".py",
   "mimetype": "text/x-python",
   "name": "python",
   "nbconvert_exporter": "python",
   "pygments_lexer": "ipython2",
   "version": "2.7.11"
  }
 },
 "nbformat": 4,
 "nbformat_minor": 0
}
