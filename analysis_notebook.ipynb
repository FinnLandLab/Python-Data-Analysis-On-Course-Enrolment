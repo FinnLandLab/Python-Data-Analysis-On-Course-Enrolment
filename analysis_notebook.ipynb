{
 "cells": [
  {
   "cell_type": "code",
   "execution_count": null,
   "metadata": {
    "collapsed": true
   },
   "outputs": [],
   "source": [
    "import pandas as pd\n",
    "import glob"
   ]
  },
  {
   "cell_type": "code",
   "execution_count": null,
   "metadata": {
    "collapsed": false
   },
   "outputs": [],
   "source": [
    "# Get path of all files\n",
    "path_list = glob.glob(\"data/*/*.csv\")\n",
    "\n",
    "# Show first 10 items\n",
    "path_list[:10]"
   ]
  },
  {
   "cell_type": "code",
   "execution_count": null,
   "metadata": {
    "collapsed": false
   },
   "outputs": [],
   "source": [
    "# How many CSV files are there?\n",
    "len(path_list)"
   ]
  },
  {
   "cell_type": "code",
   "execution_count": null,
   "metadata": {
    "collapsed": false
   },
   "outputs": [],
   "source": [
    "# What's the first item in the list?\n",
    "path_list[0]"
   ]
  },
  {
   "cell_type": "code",
   "execution_count": null,
   "metadata": {
    "collapsed": false
   },
   "outputs": [],
   "source": [
    "# Read the first item to show output structure\n",
    "temp_df = pd.read_csv(path_list[0])\n",
    "temp_df.head()"
   ]
  },
  {
   "cell_type": "code",
   "execution_count": null,
   "metadata": {
    "collapsed": true
   },
   "outputs": [],
   "source": [
    "# Lets merge all the CSV files into one.\n",
    "# Since there is no way to distinguish the data of one course for different days, a new column must be added that\n",
    "# displays the date that data was fetch. This information is available through the path of the file."
   ]
  },
  {
   "cell_type": "code",
   "execution_count": null,
   "metadata": {
    "collapsed": false
   },
   "outputs": [],
   "source": [
    "# Add a date column to temp_df using the path.\n",
    "\n",
    "# Start by getting the path\n",
    "temp_path = path_list[0]\n",
    "temp_path"
   ]
  },
  {
   "cell_type": "code",
   "execution_count": null,
   "metadata": {
    "collapsed": false
   },
   "outputs": [],
   "source": [
    "# Split using slash and get middle item (i.e. the date)\n",
    "temp_date = temp_path.split('/')[1]\n",
    "temp_date"
   ]
  },
  {
   "cell_type": "code",
   "execution_count": null,
   "metadata": {
    "collapsed": false
   },
   "outputs": [],
   "source": [
    "# Add the date to the data path\n",
    "temp_df['date'] = temp_date\n",
    "temp_df.head()"
   ]
  },
  {
   "cell_type": "code",
   "execution_count": null,
   "metadata": {
    "collapsed": false
   },
   "outputs": [],
   "source": [
    "# Create an empty DataFrame (table) and use the columns from the temp DataFrame as a basis for the DataFrame\n",
    "combined_df = pd.DataFrame(columns=temp_df.columns)\n",
    "\n",
    "# Empty table (only headers)\n",
    "combined_df"
   ]
  },
  {
   "cell_type": "code",
   "execution_count": null,
   "metadata": {
    "collapsed": false
   },
   "outputs": [],
   "source": [
    "# Go through all the CSV files, add the date column and combine all into one big table.\n",
    "\n",
    "# THIS WILL TAKE SOME TIME. IT IS GOING THROUGH OVER 17,000 CSV files.\n",
    "i = 0\n",
    "for path in path_list:\n",
    "    # Read the CSV file\n",
    "    temp_df = pd.read_csv(path)\n",
    "\n",
    "    # Add the date column to the DataFrame\n",
    "    temp_df['date'] = path.split('/')[1]\n",
    "    \n",
    "    for index, row in temp_df.iterrows():\n",
    "        # Append the DataFrame to the combined DataFrame\n",
    "        combined_df.loc[i] = row\n",
    "        i += 1\n",
    "\n",
    "combined_df.to_csv('temp.csv')        \n",
    "combined_df.head()\n"
   ]
  },
  {
   "cell_type": "code",
   "execution_count": null,
   "metadata": {
    "collapsed": false
   },
   "outputs": [],
   "source": [
    "combined_df"
   ]
  },
  {
   "cell_type": "code",
   "execution_count": null,
   "metadata": {
    "collapsed": false
   },
   "outputs": [],
   "source": []
  },
  {
   "cell_type": "code",
   "execution_count": null,
   "metadata": {
    "collapsed": true
   },
   "outputs": [],
   "source": []
  }
 ],
 "metadata": {
  "kernelspec": {
   "display_name": "Python 2",
   "language": "python",
   "name": "python2"
  },
  "language_info": {
   "codemirror_mode": {
    "name": "ipython",
    "version": 2
   },
   "file_extension": ".py",
   "mimetype": "text/x-python",
   "name": "python",
   "nbconvert_exporter": "python",
   "pygments_lexer": "ipython2",
   "version": "2.7.11"
  }
 },
 "nbformat": 4,
 "nbformat_minor": 0
}
